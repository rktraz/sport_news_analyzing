{
 "cells": [
  {
   "cell_type": "code",
   "execution_count": 119,
   "id": "2fbb2c3f-2825-4ccc-adbe-ea2bb3066280",
   "metadata": {
    "tags": []
   },
   "outputs": [],
   "source": [
    "import pandas as pd"
   ]
  },
  {
   "cell_type": "code",
   "execution_count": 120,
   "id": "75c11722-773d-4ccc-824d-6fcbd724b0ec",
   "metadata": {
    "tags": []
   },
   "outputs": [],
   "source": [
    "df = pd.read_csv(\"test/myscrapeddata.csv\")"
   ]
  },
  {
   "cell_type": "code",
   "execution_count": 121,
   "id": "76eed990-5a23-47c5-987e-320a40fc0dca",
   "metadata": {
    "tags": []
   },
   "outputs": [
    {
     "data": {
      "text/html": [
       "<div>\n",
       "<style scoped>\n",
       "    .dataframe tbody tr th:only-of-type {\n",
       "        vertical-align: middle;\n",
       "    }\n",
       "\n",
       "    .dataframe tbody tr th {\n",
       "        vertical-align: top;\n",
       "    }\n",
       "\n",
       "    .dataframe thead th {\n",
       "        text-align: right;\n",
       "    }\n",
       "</style>\n",
       "<table border=\"1\" class=\"dataframe\">\n",
       "  <thead>\n",
       "    <tr style=\"text-align: right;\">\n",
       "      <th></th>\n",
       "      <th>title</th>\n",
       "      <th>author</th>\n",
       "      <th>date</th>\n",
       "      <th>text</th>\n",
       "    </tr>\n",
       "  </thead>\n",
       "  <tbody>\n",
       "    <tr>\n",
       "      <th>0</th>\n",
       "      <td>Федерація фехтування України подала позов до C...</td>\n",
       "      <td>Григорій Мухін</td>\n",
       "      <td>4 квітня 2023, 09:29</td>\n",
       "      <td>\"Федерація фехтування України рішуче засуджує ...</td>\n",
       "    </tr>\n",
       "    <tr>\n",
       "      <th>1</th>\n",
       "      <td>Світоліна програла свій перший офіційний матч ...</td>\n",
       "      <td>Григорій Мухін</td>\n",
       "      <td>4 квітня 2023, 10:12</td>\n",
       "      <td>Експерша ракетка України \\nЕліна Світоліна\\n з...</td>\n",
       "    </tr>\n",
       "    <tr>\n",
       "      <th>2</th>\n",
       "      <td>WBA зобов'язала Усика почати переговори про за...</td>\n",
       "      <td>Григорій Мухін</td>\n",
       "      <td>4 квітня 2023, 10:31</td>\n",
       "      <td>WBA\\n на своєму офіційному сайті оголосила, що...</td>\n",
       "    </tr>\n",
       "    <tr>\n",
       "      <th>3</th>\n",
       "      <td>Думаю, що поєдинок з Тайсоном Ф’юрі відбудетьс...</td>\n",
       "      <td>Григорій Мухін</td>\n",
       "      <td>4 квітня 2023, 09:52</td>\n",
       "      <td>Чемпіон світу у суперважкій вазі за версіями W...</td>\n",
       "    </tr>\n",
       "    <tr>\n",
       "      <th>4</th>\n",
       "      <td>\"Брюгге\" повідомив Яремчуку, що хоче його позб...</td>\n",
       "      <td>Григорій Мухін</td>\n",
       "      <td>4 квітня 2023, 10:46</td>\n",
       "      <td>Нападник \\nРоман Яремчук\\n близький до того, щ...</td>\n",
       "    </tr>\n",
       "  </tbody>\n",
       "</table>\n",
       "</div>"
      ],
      "text/plain": [
       "                                               title          author  \\\n",
       "0  Федерація фехтування України подала позов до C...  Григорій Мухін   \n",
       "1  Світоліна програла свій перший офіційний матч ...  Григорій Мухін   \n",
       "2  WBA зобов'язала Усика почати переговори про за...  Григорій Мухін   \n",
       "3  Думаю, що поєдинок з Тайсоном Ф’юрі відбудетьс...  Григорій Мухін   \n",
       "4  \"Брюгге\" повідомив Яремчуку, що хоче його позб...  Григорій Мухін   \n",
       "\n",
       "                   date                                               text  \n",
       "0  4 квітня 2023, 09:29  \"Федерація фехтування України рішуче засуджує ...  \n",
       "1  4 квітня 2023, 10:12  Експерша ракетка України \\nЕліна Світоліна\\n з...  \n",
       "2  4 квітня 2023, 10:31  WBA\\n на своєму офіційному сайті оголосила, що...  \n",
       "3  4 квітня 2023, 09:52  Чемпіон світу у суперважкій вазі за версіями W...  \n",
       "4  4 квітня 2023, 10:46  Нападник \\nРоман Яремчук\\n близький до того, щ...  "
      ]
     },
     "execution_count": 121,
     "metadata": {},
     "output_type": "execute_result"
    }
   ],
   "source": [
    "df.head(5)"
   ]
  },
  {
   "cell_type": "code",
   "execution_count": 122,
   "id": "9fea0dbc-45fa-4745-b6b1-f24e9c7bcd9a",
   "metadata": {
    "tags": []
   },
   "outputs": [
    {
     "data": {
      "text/plain": [
       "1073"
      ]
     },
     "execution_count": 122,
     "metadata": {},
     "output_type": "execute_result"
    }
   ],
   "source": [
    "len(df)"
   ]
  },
  {
   "cell_type": "code",
   "execution_count": 124,
   "id": "ba92433c-9993-4649-a74f-1652f19b78cc",
   "metadata": {
    "tags": []
   },
   "outputs": [],
   "source": [
    "df = df.dropna()"
   ]
  },
  {
   "cell_type": "code",
   "execution_count": 125,
   "id": "09a665b8-b344-4144-8cbd-c2720080c915",
   "metadata": {
    "tags": []
   },
   "outputs": [],
   "source": [
    "raw_text = df.sample(1).text.values[0]"
   ]
  },
  {
   "cell_type": "code",
   "execution_count": 126,
   "id": "9ab7b1f1-119e-436b-b6dd-4d24f2e53cb9",
   "metadata": {
    "tags": []
   },
   "outputs": [
    {
     "data": {
      "text/plain": [
       "'Обов\\'язковим претендентом для Усіка за версією WBA є британець Даніель Дюбуа (19-1, 18 КО).\\nЗазначимо, свій останній поєдинок Дюбуа провів 3 грудня на арені Tottenham Hotspur Stadium у Лондоні проти південноафриканця Кевіна Лерена.\\nНезважаючи на те, що британець у першому раунді тричі побував на канвасі, перемогу технічним нокаутом у третьому раунді здобув саме Дюбуа.            \\n\\n    .icon-google-news:before { content: \"\\\\f1a0\"; }\\n    .inline-rek-icon { font-size: 26px; padding-left: 8px; padding-right: 4px; position: relative; top: 2px; }\\n    .inline-rek-wrapper { text-align: center; font-weight: bold; text-transform: uppercase; }\\n    .inline-rek-button { display: inline-block; border-radius: 30px; padding: 18px 30px; margin: 6px auto 30px; }\\n    .inline-rek-button a { color:#fff; border-bottom: none; }\\n    .inline-rek-telegram { background-color: #2481CC; }\\n    .inline-rek-youtube { background-color: #ff0000; }\\n    .inline-rek-gnews { background-color: #f6903b; }\\n\\n\\n\\n\\nДодамо, що раніше \\nIBF зобов\\'язала Усика провести бій проти обов\\'язкового претендента, хорвата Філіпа Хрговича.'"
      ]
     },
     "execution_count": 126,
     "metadata": {},
     "output_type": "execute_result"
    }
   ],
   "source": [
    "raw_text"
   ]
  },
  {
   "cell_type": "code",
   "execution_count": 127,
   "id": "0efe6a79-9738-47bf-8aa1-b937bca89834",
   "metadata": {
    "tags": []
   },
   "outputs": [],
   "source": [
    "def clean_text(raw_text):\n",
    "    # Remove XML tags\n",
    "    text = re.sub(r'<[^>]+>', '', raw_text)\n",
    "\n",
    "    # Remove CSS styles\n",
    "    text = re.sub(r'\\..*?\\{.*?\\}', '', text)\n",
    "\n",
    "    # Remove HTML entities\n",
    "    text = re.sub(r'&\\w+;', '', text)\n",
    "\n",
    "    # Remove newline characters and extra whitespace\n",
    "    text = re.sub(r'\\n\\s*', ' ', text).strip()\n",
    "\n",
    "    # Leave only one space between words\n",
    "    text = re.sub(r'\\s+', ' ', text).strip()\n",
    "    return text"
   ]
  },
  {
   "cell_type": "code",
   "execution_count": 128,
   "id": "a7afe068-4279-400a-9030-074995b6c02b",
   "metadata": {
    "tags": []
   },
   "outputs": [
    {
     "data": {
      "text/plain": [
       "\"Обов'язковим претендентом для Усіка за версією WBA є британець Даніель Дюбуа (19-1, 18 КО). Зазначимо, свій останній поєдинок Дюбуа провів 3 грудня на арені Tottenham Hotspur Stadium у Лондоні проти південноафриканця Кевіна Лерена. Незважаючи на те, що британець у першому раунді тричі побував на канвасі, перемогу технічним нокаутом у третьому раунді здобув саме Дюбуа. Додамо, що раніше IBF зобов'язала Усика провести бій проти обов'язкового претендента, хорвата Філіпа Хрговича.\""
      ]
     },
     "execution_count": 128,
     "metadata": {},
     "output_type": "execute_result"
    }
   ],
   "source": [
    "clean_text(raw_text)"
   ]
  },
  {
   "cell_type": "code",
   "execution_count": null,
   "id": "0bbd522a-8653-45b7-8097-7f3fb1c400b3",
   "metadata": {},
   "outputs": [],
   "source": [
    "# df['text'] = df['text'].astype(str)"
   ]
  },
  {
   "cell_type": "code",
   "execution_count": 130,
   "id": "95fcc091-c1b7-4031-95a8-067ce3e1a206",
   "metadata": {
    "tags": []
   },
   "outputs": [],
   "source": [
    "df['text'] = df['text'].apply(lambda x: clean_text(x))"
   ]
  },
  {
   "cell_type": "code",
   "execution_count": 132,
   "id": "d678a78e-6938-447a-8577-22420ad9c2b5",
   "metadata": {
    "tags": []
   },
   "outputs": [
    {
     "data": {
      "text/plain": [
       "0       \"Федерація фехтування України рішуче засуджує ...\n",
       "1       Експерша ракетка України Еліна Світоліна зігра...\n",
       "2       WBA на своєму офіційному сайті оголосила, що ї...\n",
       "3       Чемпіон світу у суперважкій вазі за версіями W...\n",
       "4       Нападник Роман Яремчук близький до того, щоб з...\n",
       "                              ...                        \n",
       "1068    УЄФА після фінального свистка ізраїльського ар...\n",
       "1069    Федерація гімнастики Італії (IGF) вирішила бой...\n",
       "1070    У топ-10 потрапила і українка Ярослава Магучіх...\n",
       "1071    Напередодні в італійському Бріндізі місцевий о...\n",
       "1072    У рамках першого туру кваліфікації українська ...\n",
       "Name: text, Length: 1039, dtype: object"
      ]
     },
     "execution_count": 132,
     "metadata": {},
     "output_type": "execute_result"
    }
   ],
   "source": [
    "df['text'] "
   ]
  },
  {
   "cell_type": "code",
   "execution_count": 133,
   "id": "a6fd1c89-c209-41ba-9e47-a955072a4347",
   "metadata": {
    "tags": []
   },
   "outputs": [],
   "source": [
    "df['title'] = df['title'].apply(lambda x: clean_text(x))"
   ]
  },
  {
   "cell_type": "code",
   "execution_count": 134,
   "id": "fafe09ea-2d9c-45a7-8df4-96cbd30902c8",
   "metadata": {
    "tags": []
   },
   "outputs": [
    {
     "data": {
      "text/plain": [
       "array(['Батько абсолютного чемпіона світу Хейні закликав організувати бій Девіна з Ломаченком'],\n",
       "      dtype=object)"
      ]
     },
     "execution_count": 134,
     "metadata": {},
     "output_type": "execute_result"
    }
   ],
   "source": [
    "df['title'].sample(1).values"
   ]
  },
  {
   "cell_type": "code",
   "execution_count": 135,
   "id": "c66ba1e6-5349-4f0e-8cb4-a52e7c02ec95",
   "metadata": {
    "tags": []
   },
   "outputs": [],
   "source": [
    "df.to_csv(\"processed_news.csv\", index=False)"
   ]
  },
  {
   "cell_type": "markdown",
   "id": "6dd8f403-c5a8-4b90-a3af-a4c2f4bcbaf8",
   "metadata": {},
   "source": [
    "---"
   ]
  },
  {
   "cell_type": "code",
   "execution_count": 136,
   "id": "41984e4a-68a4-4614-9893-f7c330e7aba6",
   "metadata": {
    "tags": []
   },
   "outputs": [
    {
     "data": {
      "text/html": [
       "<div>\n",
       "<style scoped>\n",
       "    .dataframe tbody tr th:only-of-type {\n",
       "        vertical-align: middle;\n",
       "    }\n",
       "\n",
       "    .dataframe tbody tr th {\n",
       "        vertical-align: top;\n",
       "    }\n",
       "\n",
       "    .dataframe thead th {\n",
       "        text-align: right;\n",
       "    }\n",
       "</style>\n",
       "<table border=\"1\" class=\"dataframe\">\n",
       "  <thead>\n",
       "    <tr style=\"text-align: right;\">\n",
       "      <th></th>\n",
       "      <th>title</th>\n",
       "      <th>author</th>\n",
       "      <th>date</th>\n",
       "      <th>text</th>\n",
       "    </tr>\n",
       "  </thead>\n",
       "  <tbody>\n",
       "    <tr>\n",
       "      <th>0</th>\n",
       "      <td>Федерація фехтування України подала позов до C...</td>\n",
       "      <td>Григорій Мухін</td>\n",
       "      <td>4 квітня 2023, 09:29</td>\n",
       "      <td>\"Федерація фехтування України рішуче засуджує ...</td>\n",
       "    </tr>\n",
       "    <tr>\n",
       "      <th>1</th>\n",
       "      <td>Світоліна програла свій перший офіційний матч ...</td>\n",
       "      <td>Григорій Мухін</td>\n",
       "      <td>4 квітня 2023, 10:12</td>\n",
       "      <td>Експерша ракетка України Еліна Світоліна зігра...</td>\n",
       "    </tr>\n",
       "    <tr>\n",
       "      <th>2</th>\n",
       "      <td>WBA зобов'язала Усика почати переговори про за...</td>\n",
       "      <td>Григорій Мухін</td>\n",
       "      <td>4 квітня 2023, 10:31</td>\n",
       "      <td>WBA на своєму офіційному сайті оголосила, що ї...</td>\n",
       "    </tr>\n",
       "    <tr>\n",
       "      <th>3</th>\n",
       "      <td>Думаю, що поєдинок з Тайсоном Ф’юрі відбудетьс...</td>\n",
       "      <td>Григорій Мухін</td>\n",
       "      <td>4 квітня 2023, 09:52</td>\n",
       "      <td>Чемпіон світу у суперважкій вазі за версіями W...</td>\n",
       "    </tr>\n",
       "    <tr>\n",
       "      <th>4</th>\n",
       "      <td>\"Брюгге\" повідомив Яремчуку, що хоче його позб...</td>\n",
       "      <td>Григорій Мухін</td>\n",
       "      <td>4 квітня 2023, 10:46</td>\n",
       "      <td>Нападник Роман Яремчук близький до того, щоб з...</td>\n",
       "    </tr>\n",
       "    <tr>\n",
       "      <th>...</th>\n",
       "      <td>...</td>\n",
       "      <td>...</td>\n",
       "      <td>...</td>\n",
       "      <td>...</td>\n",
       "    </tr>\n",
       "    <tr>\n",
       "      <th>1068</th>\n",
       "      <td>УЄФА назвав Бондаренка найкращим гравцем матчу...</td>\n",
       "      <td>Григорій Мухін</td>\n",
       "      <td>12 жовтня 2022, 16:43</td>\n",
       "      <td>УЄФА після фінального свистка ізраїльського ар...</td>\n",
       "    </tr>\n",
       "    <tr>\n",
       "      <th>1069</th>\n",
       "      <td>Італія бойкотує конгрес FIG через допуск росія...</td>\n",
       "      <td>Григорій Мухін</td>\n",
       "      <td>12 жовтня 2022, 17:00</td>\n",
       "      <td>Федерація гімнастики Італії (IGF) вирішила бой...</td>\n",
       "    </tr>\n",
       "    <tr>\n",
       "      <th>1070</th>\n",
       "      <td>Могучіх номінована на звання найкращої легкоат...</td>\n",
       "      <td>Григорій Мухін</td>\n",
       "      <td>12 жовтня 2022, 16:29</td>\n",
       "      <td>У топ-10 потрапила і українка Ярослава Магучіх...</td>\n",
       "    </tr>\n",
       "    <tr>\n",
       "      <th>1071</th>\n",
       "      <td>\"Будівельник\" стартував у Кубку Європи ФІБА з ...</td>\n",
       "      <td>Григорій Мухін</td>\n",
       "      <td>13 жовтня 2022, 09:11</td>\n",
       "      <td>Напередодні в італійському Бріндізі місцевий о...</td>\n",
       "    </tr>\n",
       "    <tr>\n",
       "      <th>1072</th>\n",
       "      <td>Збірна України з гандболу стартувала з перемог...</td>\n",
       "      <td>Григорій Мухін</td>\n",
       "      <td>13 жовтня 2022, 08:57</td>\n",
       "      <td>У рамках першого туру кваліфікації українська ...</td>\n",
       "    </tr>\n",
       "  </tbody>\n",
       "</table>\n",
       "<p>1039 rows × 4 columns</p>\n",
       "</div>"
      ],
      "text/plain": [
       "                                                  title          author  \\\n",
       "0     Федерація фехтування України подала позов до C...  Григорій Мухін   \n",
       "1     Світоліна програла свій перший офіційний матч ...  Григорій Мухін   \n",
       "2     WBA зобов'язала Усика почати переговори про за...  Григорій Мухін   \n",
       "3     Думаю, що поєдинок з Тайсоном Ф’юрі відбудетьс...  Григорій Мухін   \n",
       "4     \"Брюгге\" повідомив Яремчуку, що хоче його позб...  Григорій Мухін   \n",
       "...                                                 ...             ...   \n",
       "1068  УЄФА назвав Бондаренка найкращим гравцем матчу...  Григорій Мухін   \n",
       "1069  Італія бойкотує конгрес FIG через допуск росія...  Григорій Мухін   \n",
       "1070  Могучіх номінована на звання найкращої легкоат...  Григорій Мухін   \n",
       "1071  \"Будівельник\" стартував у Кубку Європи ФІБА з ...  Григорій Мухін   \n",
       "1072  Збірна України з гандболу стартувала з перемог...  Григорій Мухін   \n",
       "\n",
       "                       date                                               text  \n",
       "0      4 квітня 2023, 09:29  \"Федерація фехтування України рішуче засуджує ...  \n",
       "1      4 квітня 2023, 10:12  Експерша ракетка України Еліна Світоліна зігра...  \n",
       "2      4 квітня 2023, 10:31  WBA на своєму офіційному сайті оголосила, що ї...  \n",
       "3      4 квітня 2023, 09:52  Чемпіон світу у суперважкій вазі за версіями W...  \n",
       "4      4 квітня 2023, 10:46  Нападник Роман Яремчук близький до того, щоб з...  \n",
       "...                     ...                                                ...  \n",
       "1068  12 жовтня 2022, 16:43  УЄФА після фінального свистка ізраїльського ар...  \n",
       "1069  12 жовтня 2022, 17:00  Федерація гімнастики Італії (IGF) вирішила бой...  \n",
       "1070  12 жовтня 2022, 16:29  У топ-10 потрапила і українка Ярослава Магучіх...  \n",
       "1071  13 жовтня 2022, 09:11  Напередодні в італійському Бріндізі місцевий о...  \n",
       "1072  13 жовтня 2022, 08:57  У рамках першого туру кваліфікації українська ...  \n",
       "\n",
       "[1039 rows x 4 columns]"
      ]
     },
     "execution_count": 136,
     "metadata": {},
     "output_type": "execute_result"
    }
   ],
   "source": [
    "df"
   ]
  },
  {
   "cell_type": "code",
   "execution_count": 138,
   "id": "7b45f6b4-041f-4aae-b65f-4ff67d4d69dc",
   "metadata": {
    "tags": []
   },
   "outputs": [],
   "source": [
    "import os\n",
    "\n",
    "# Create a directory to store the text files\n",
    "directory = \"text_files\"\n",
    "if not os.path.exists(directory):\n",
    "    os.makedirs(directory)\n",
    "\n",
    "# Iterate over the rows of the dataframe\n",
    "for index, row in df.iterrows():\n",
    "    # Get the text from the current row\n",
    "    text = row['text']\n",
    "    \n",
    "    # Create a filename based on the index of the row\n",
    "    filename = f\"{directory}/news_{index}.txt\"\n",
    "    \n",
    "    # Write the text to a plain text file\n",
    "    with open(filename, 'w') as f:\n",
    "        f.write(text)"
   ]
  },
  {
   "cell_type": "code",
   "execution_count": null,
   "id": "518912b6-c03d-4c1e-b0a6-b25a4c78c379",
   "metadata": {},
   "outputs": [],
   "source": []
  }
 ],
 "metadata": {
  "kernelspec": {
   "display_name": "Python 3 (ipykernel)",
   "language": "python",
   "name": "python3"
  },
  "language_info": {
   "codemirror_mode": {
    "name": "ipython",
    "version": 3
   },
   "file_extension": ".py",
   "mimetype": "text/x-python",
   "name": "python",
   "nbconvert_exporter": "python",
   "pygments_lexer": "ipython3",
   "version": "3.8.16"
  }
 },
 "nbformat": 4,
 "nbformat_minor": 5
}
